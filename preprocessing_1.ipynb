{
 "cells": [
  {
   "cell_type": "code",
   "execution_count": 8,
   "id": "f938f9c3",
   "metadata": {},
   "outputs": [
    {
     "name": "stdout",
     "output_type": "stream",
     "text": [
      "He was born in the year of 1975, named as  MR.John\n"
     ]
    }
   ],
   "source": [
    "input = \"He was born in the year of 1975, named as  MR.John\"\n",
    "print(input) "
   ]
  },
  {
   "cell_type": "code",
   "execution_count": 18,
   "id": "c4d49dd6",
   "metadata": {},
   "outputs": [
    {
     "name": "stdout",
     "output_type": "stream",
     "text": [
      "he was born in the year of 1975, named as  mr.john\n",
      "LOWERCASE =  he was born in the year of 1975, named as  mr.john\n",
      "REGULAR EXP1 =  he was born in the year of 2025, named as  mr.john\n",
      "REGULAR EXP2 =  ** w*s *orn *n t** y**r o* 1975, n*m** *s  mr.jo*n\n",
      "REGULAR EXP3 =  he was born in the year of 1975, named as  mr.john\n"
     ]
    }
   ],
   "source": [
    "# lowercase\n",
    "lowercase = input.lower()\n",
    "print(lowercase)\n",
    "print(\"LOWERCASE = \", lowercase)\n",
    "\n",
    "#re\n",
    "\n",
    "#pip install re\n",
    "import re #Regular Expression\n",
    "lowercase_re = re.sub('1975', '2025', lowercase)\n",
    "print(\"REGULAR EXP1 = \",lowercase_re)\n",
    "lowercase_re = re.sub('[a-i]', '*', lowercase)\n",
    "print(\"REGULAR EXP2 = \",lowercase_re)\n",
    "lowercase_re = re.sub('/d', '-', lowercase)\n",
    "print(\"REGULAR EXP3 = \",lowercase_re)"
   ]
  },
  {
   "cell_type": "code",
   "execution_count": 19,
   "id": "8a618f96",
   "metadata": {},
   "outputs": [
    {
     "name": "stdout",
     "output_type": "stream",
     "text": [
      "WORD TOKENS =  ['He', 'was', 'born', 'in', 'the', 'year', 'of', '1975', ',', 'named', 'as', 'MR.John']\n",
      "12\n",
      "SENT TOKENS =  ['He was born in the year of 1975, named as  MR.John']\n",
      "1\n"
     ]
    }
   ],
   "source": [
    "#(2)Tokenization\n",
    "import nltk\n",
    "from nltk import word_tokenize, sent_tokenize\n",
    "\n",
    "word_tokens = word_tokenize(input)\n",
    "print(\"WORD TOKENS = \", word_tokens)\n",
    "print(len(word_tokens))\n",
    "sent_tokens = sent_tokenize(input)\n",
    "print(\"SENT TOKENS = \", sent_tokens)\n",
    "print(len(sent_tokens))"
   ]
  },
  {
   "cell_type": "code",
   "execution_count": 22,
   "id": "5d0751d3",
   "metadata": {},
   "outputs": [
    {
     "name": "stdout",
     "output_type": "stream",
     "text": [
      "He born year 1975 , named MR.John\n"
     ]
    }
   ],
   "source": [
    "#(3)stopwords Removal\n",
    "from nltk.corpus import stopwords\n",
    "#print(stopwords.fileids())\n",
    "stopwords = set(stopwords.words('english'))\n",
    "#print(\"\\n\", stopwords)\n",
    "\n",
    "tokens_stopwords = []\n",
    "for token in word_tokens:\n",
    "    if token not in stopwords:\n",
    "        tokens_stopwords.append(token)\n",
    "print(' '.join(tokens_stopwords))"
   ]
  },
  {
   "cell_type": "code",
   "execution_count": null,
   "id": "367b8b9a",
   "metadata": {},
   "outputs": [
    {
     "name": "stdout",
     "output_type": "stream",
     "text": [
      "['he', 'born', 'year', '1975', ',', 'name', 'mr.john']\n"
     ]
    }
   ],
   "source": []
  },
  {
   "cell_type": "code",
   "execution_count": 24,
   "id": "62afd0b3",
   "metadata": {},
   "outputs": [
    {
     "name": "stdout",
     "output_type": "stream",
     "text": [
      "['He', 'born', 'year', '1975', ',', 'named', 'MR.John']\n"
     ]
    }
   ],
   "source": [
    "#Lemmatizer\n",
    "from nltk import WordNetLemmatizer\n",
    "lma = []\n",
    "for word in tokens_stopwords:\n",
    "    lma.append(WordNetLemmatizer().lemmatize(word))\n",
    "print(lma)"
   ]
  },
  {
   "cell_type": "code",
   "execution_count": 25,
   "id": "08d8c9a5",
   "metadata": {},
   "outputs": [
    {
     "name": "stdout",
     "output_type": "stream",
     "text": [
      "[('He', 'PRP'), ('was', 'VBD'), ('born', 'VBN'), ('in', 'IN'), ('the', 'DT'), ('year', 'NN'), ('of', 'IN'), ('1975', 'CD'), (',', ','), ('named', 'VBN'), ('as', 'IN'), ('MR.John', 'NNP')]\n"
     ]
    }
   ],
   "source": [
    "#POS Tags\n",
    "from nltk import pos_tag\n",
    "print(pos_tag(word_tokens))"
   ]
  },
  {
   "cell_type": "code",
   "execution_count": null,
   "id": "a0682879",
   "metadata": {},
   "outputs": [],
   "source": []
  }
 ],
 "metadata": {
  "kernelspec": {
   "display_name": "Python 3",
   "language": "python",
   "name": "python3"
  },
  "language_info": {
   "codemirror_mode": {
    "name": "ipython",
    "version": 3
   },
   "file_extension": ".py",
   "mimetype": "text/x-python",
   "name": "python",
   "nbconvert_exporter": "python",
   "pygments_lexer": "ipython3",
   "version": "3.13.5"
  }
 },
 "nbformat": 4,
 "nbformat_minor": 5
}
