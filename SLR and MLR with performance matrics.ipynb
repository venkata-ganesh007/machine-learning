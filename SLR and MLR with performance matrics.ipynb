{
 "cells": [
  {
   "cell_type": "code",
   "execution_count": 1,
   "id": "49c8a14b",
   "metadata": {},
   "outputs": [
    {
     "name": "stdout",
     "output_type": "stream",
     "text": [
      "      Id  SepalLengthCm  SepalWidthCm  PetalLengthCm  PetalWidthCm  \\\n",
      "0      1            5.1           3.5            1.4           0.2   \n",
      "1      2            4.9           3.0            1.4           0.2   \n",
      "2      3            4.7           3.2            1.3           0.2   \n",
      "3      4            4.6           3.1            1.5           0.2   \n",
      "4      5            5.0           3.6            1.4           0.2   \n",
      "..   ...            ...           ...            ...           ...   \n",
      "145  146            6.7           3.0            5.2           2.3   \n",
      "146  147            6.3           2.5            5.0           1.9   \n",
      "147  148            6.5           3.0            5.2           2.0   \n",
      "148  149            6.2           3.4            5.4           2.3   \n",
      "149  150            5.9           3.0            5.1           1.8   \n",
      "\n",
      "            Species  \n",
      "0       Iris-setosa  \n",
      "1       Iris-setosa  \n",
      "2       Iris-setosa  \n",
      "3       Iris-setosa  \n",
      "4       Iris-setosa  \n",
      "..              ...  \n",
      "145  Iris-virginica  \n",
      "146  Iris-virginica  \n",
      "147  Iris-virginica  \n",
      "148  Iris-virginica  \n",
      "149  Iris-virginica  \n",
      "\n",
      "[150 rows x 6 columns]\n"
     ]
    }
   ],
   "source": [
    "import pandas as pd\n",
    "iris = pd.read_csv(\"IRIS.csv\")\n",
    "print(iris)"
   ]
  },
  {
   "cell_type": "code",
   "execution_count": 4,
   "id": "988251d0",
   "metadata": {},
   "outputs": [
    {
     "name": "stdout",
     "output_type": "stream",
     "text": [
      "[1.40259388 5.24263462 4.97974186 4.97974186 1.63135152 7.65845412\n",
      " 5.95474524 4.148631   3.02143765 4.89487675 1.37675619 2.94486997\n",
      " 4.92901187 4.21690124 4.14033357 6.22593544 4.27592867 6.03131292\n",
      " 6.04790779 1.81767661 4.6661191  2.5214898  4.26763123 4.53882143\n",
      " 7.11607372 3.69111571 4.23349611 1.41089131 1.80108174 1.95327171] \n",
      "\n",
      "Mean Absoulte Error: 0.4844359877298496\n",
      "Mean Squarred error: 0.36161835912827445\n",
      "Root Mean Squarred Error: 0.6013471203292442\n"
     ]
    }
   ],
   "source": [
    "# MLR\n",
    "\n",
    "import numpy as np\n",
    "\n",
    "x = iris[['SepalLengthCm','SepalWidthCm']]\n",
    "y = iris.PetalLengthCm\n",
    "\n",
    "from sklearn.model_selection import train_test_split\n",
    "x_train, x_test, y_train, y_test = train_test_split(x,y,test_size=0.2)\n",
    "\n",
    "from sklearn.linear_model import LinearRegression\n",
    "LR = LinearRegression()\n",
    "\n",
    "training = LR.fit(x_train,y_train)\n",
    "y_pred = LR.predict(x_test)\n",
    "print(y_pred,\"\\n\")\n",
    "\n",
    "import numpy as np\n",
    "from sklearn import metrics\n",
    "\n",
    "MAE = metrics.mean_absolute_error(y_test, y_pred)\n",
    "print(\"Mean Absoulte Error:\", MAE)\n",
    "MSE = metrics.mean_squared_error(y_test, y_pred)\n",
    "print(\"Mean Squarred error:\", MSE)\n",
    "RMSE = metrics.root_mean_squared_error(y_test, y_pred)\n",
    "print(\"Root Mean Squarred Error:\" ,RMSE)"
   ]
  },
  {
   "cell_type": "code",
   "execution_count": 5,
   "id": "5fe10067",
   "metadata": {},
   "outputs": [
    {
     "name": "stdout",
     "output_type": "stream",
     "text": [
      "[1.02220811 3.10226929 1.96769047 4.23684812 2.15678694 2.72407635\n",
      " 5.37142695 3.10226929 3.48046223 3.66955871 3.66955871 4.61504106\n",
      " 6.69510224 3.10226929 1.58949752 4.42594459 4.61504106 4.04775165\n",
      " 7.26239166 1.96769047 3.29136576 2.34588341 5.56052342 4.80413753\n",
      " 7.07329518 4.80413753 1.778594   4.993234   5.37142695 1.778594  ] \n",
      "\n",
      "Mean Absoulte Error: 0.7507001650514874\n",
      "Mean Squarred error: 0.8922920311716391\n",
      "Root Mean Squarred Error: 0.9446121061957862\n"
     ]
    }
   ],
   "source": [
    "#SLR\n",
    "\n",
    "import numpy as np\n",
    "\n",
    "x = iris[['SepalLengthCm']]\n",
    "y = iris.PetalLengthCm\n",
    "\n",
    "from sklearn.model_selection import train_test_split\n",
    "x_train, x_test, y_train, y_test = train_test_split(x,y,test_size=0.2)\n",
    "\n",
    "from sklearn.linear_model import LinearRegression\n",
    "LR = LinearRegression()\n",
    "\n",
    "training = LR.fit(x_train,y_train)\n",
    "y_pred = LR.predict(x_test)\n",
    "print(y_pred,\"\\n\")\n",
    "\n",
    "import numpy as np\n",
    "from sklearn import metrics\n",
    "\n",
    "MAE = metrics.mean_absolute_error(y_test, y_pred)\n",
    "print(\"Mean Absoulte Error:\", MAE)\n",
    "MSE = metrics.mean_squared_error(y_test, y_pred)\n",
    "print(\"Mean Squarred error:\", MSE)\n",
    "RMSE = metrics.root_mean_squared_error(y_test, y_pred)\n",
    "print(\"Root Mean Squarred Error:\" ,RMSE)"
   ]
  },
  {
   "cell_type": "code",
   "execution_count": null,
   "id": "62098ac6",
   "metadata": {},
   "outputs": [],
   "source": []
  }
 ],
 "metadata": {
  "kernelspec": {
   "display_name": "Python 3",
   "language": "python",
   "name": "python3"
  },
  "language_info": {
   "codemirror_mode": {
    "name": "ipython",
    "version": 3
   },
   "file_extension": ".py",
   "mimetype": "text/x-python",
   "name": "python",
   "nbconvert_exporter": "python",
   "pygments_lexer": "ipython3",
   "version": "3.13.5"
  }
 },
 "nbformat": 4,
 "nbformat_minor": 5
}
