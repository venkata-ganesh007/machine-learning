{
 "cells": [
  {
   "cell_type": "code",
   "execution_count": 3,
   "id": "78b21d87",
   "metadata": {},
   "outputs": [
    {
     "name": "stdout",
     "output_type": "stream",
     "text": [
      "['appl boy cream', 'boy cream dog', 'dog eagl fun']\n",
      "<Compressed Sparse Row sparse matrix of dtype 'float64'\n",
      "\twith 9 stored elements and shape (3, 6)>\n",
      "  Coords\tValues\n",
      "  (0, 0)\t0.680918560398684\n",
      "  (0, 1)\t0.5178561161676974\n",
      "  (0, 2)\t0.5178561161676974\n",
      "  (1, 1)\t0.5773502691896257\n",
      "  (1, 2)\t0.5773502691896257\n",
      "  (1, 3)\t0.5773502691896257\n",
      "  (2, 3)\t0.4736296010332684\n",
      "  (2, 4)\t0.6227660078332259\n",
      "  (2, 5)\t0.6227660078332259\n"
     ]
    }
   ],
   "source": [
    "from nltk import word_tokenize\n",
    "from nltk.corpus import stopwords\n",
    "from nltk.stem import PorterStemmer\n",
    "from sklearn.feature_extraction.text import TfidfVectorizer\n",
    "\n",
    "stopwords = set(stopwords.words('english'))\n",
    "ps = PorterStemmer()\n",
    "vector = TfidfVectorizer()\n",
    "\n",
    "documents = [\"apple boy cream\",\"boy cream dog\",\"dog eagle fun\"]\n",
    "preprocessed = []\n",
    "for doc in documents:\n",
    "    tokenization = word_tokenize(doc)\n",
    "    stop = [ps.stem(word)for word in tokenization if word not in stopwords]\n",
    "    preprocessed.append(\" \".join(stop))\n",
    "print(preprocessed)\n",
    "word_score = vector.fit_transform(preprocessed)\n",
    "print(word_score)"
   ]
  },
  {
   "cell_type": "code",
   "execution_count": null,
   "id": "74bccee7",
   "metadata": {},
   "outputs": [],
   "source": []
  }
 ],
 "metadata": {
  "kernelspec": {
   "display_name": "Python 3",
   "language": "python",
   "name": "python3"
  },
  "language_info": {
   "codemirror_mode": {
    "name": "ipython",
    "version": 3
   },
   "file_extension": ".py",
   "mimetype": "text/x-python",
   "name": "python",
   "nbconvert_exporter": "python",
   "pygments_lexer": "ipython3",
   "version": "3.13.5"
  }
 },
 "nbformat": 4,
 "nbformat_minor": 5
}
